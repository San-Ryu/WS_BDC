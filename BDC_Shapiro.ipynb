{
  "nbformat": 4,
  "nbformat_minor": 0,
  "metadata": {
    "colab": {
      "provenance": []
    },
    "kernelspec": {
      "name": "python3",
      "display_name": "Python 3"
    },
    "language_info": {
      "name": "python"
    }
  },
  "cells": [
    {
      "cell_type": "markdown",
      "source": [
        "https://github.com/lovedlim/BigDataCertificationCourses/tree/main  \n",
        "https://www.kaggle.com/code/agileteam/t3-shapiro-wilk"
      ],
      "metadata": {
        "id": "OZiPub_ZFK3Y"
      }
    },
    {
      "cell_type": "markdown",
      "source": [
        "<문제>  \n",
        "12명의 수험생이 빅데이터 분석기사 시험에서 받은 점수이다.  \n",
        "Shapiro-Wilk 검정을 사용하여 데이터가 정규 분포를 따르는지 검증하시오.  \n",
        "- 귀무 가설(H0): 데이터는 정규 분포를 따른다.  \n",
        "- 대립 가설(H1): 데이터는 정규 분포를 따르지 않는다.  \n",
        "\n",
        "Shapiro-Wilk 검정 통계량, p-value, 검증결과를 출력하시오"
      ],
      "metadata": {
        "id": "v2W_s4eWFNzA"
      }
    },
    {
      "cell_type": "code",
      "execution_count": 1,
      "metadata": {
        "id": "TYr0pLsu9ZiX",
        "colab": {
          "base_uri": "https://localhost:8080/"
        },
        "outputId": "1bede202-0cec-4722-c09a-c5bfeb0945e9"
      },
      "outputs": [
        {
          "output_type": "stream",
          "name": "stdout",
          "text": [
            "0.9768091723993144\n",
            "0.9676506711851194\n",
            "p-value가 0.05보다 크므로, 귀무가설을 기각할 수 없음.데이터는 정규분포를 따른다.\n"
          ]
        }
      ],
      "source": [
        "from scipy import stats\n",
        "\n",
        "data = [75, 83, 81, 92, 68, 77, 78, 80, 85, 95, 79, 89]\n",
        "\n",
        "## Shapiro-Wilk 검정 수행\n",
        "stat, pv = stats.shapiro(data)\n",
        "\n",
        "## 결과\n",
        "print(stat)\n",
        "print(pv)\n",
        "\n",
        "## 유의 수준 0.05에 따른 검정 결과 확인\n",
        "if pv < 0.05 :\n",
        "  print('p-value가 0.05보다 작으므로 귀무가설을 기각. 데이터는 정규분포를 따르지 않는다.')\n",
        "else :\n",
        "  print('p-value가 0.05보다 크므로, 귀무가설을 기각할 수 없음.데이터는 정규분포를 따른다.')"
      ]
    },
    {
      "cell_type": "code",
      "source": [],
      "metadata": {
        "id": "D6HVdQ2E9n5S"
      },
      "execution_count": null,
      "outputs": []
    }
  ]
}