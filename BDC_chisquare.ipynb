{
  "nbformat": 4,
  "nbformat_minor": 0,
  "metadata": {
    "colab": {
      "provenance": []
    },
    "kernelspec": {
      "name": "python3",
      "display_name": "Python 3"
    },
    "language_info": {
      "name": "python"
    }
  },
  "cells": [
    {
      "cell_type": "markdown",
      "source": [
        "# 적합도 검정\n",
        "https://www.kaggle.com/code/agileteam/t3-chisquare-py"
      ],
      "metadata": {
        "id": "J52miAkz6syR"
      }
    },
    {
      "cell_type": "markdown",
      "source": [
        "카이제곱 적합도 검정  \n",
        "  \n",
        "1. One Sample Chi-squared test - 적합도 검정  \n",
        " - 귀무가설(H0) : 주어진 한 변수의 분포가 기대와 동일할 것이다.  \n",
        " - 대립가설(Ha) : 주어진 한 변수의 분포가 기대와 동일하지 않을 것이다.   \n",
        " - 함수 : scipy.stats.chisquare(f_obs, exp_value)\n",
        "2. Two Sample Chi-squared test - 동질성 검정\n",
        " - 귀무가설(H0) : 두 변수의 분포가 동일할 것이다.  \n",
        " - 대립가설(Ha) : 두 변수의 분포가 동일하지 않을 것이다.  \n",
        " - 함수 : scipy.stats.chisquare(f_obs, f_exp)\n",
        "3. Two Sample Chi-squared test - 독립성 검정  \n",
        " - 귀무가설(H0) : 두 변수는 서로 독립이다. (관련이 없을 것이다.)  \n",
        " - 대립가설(Ha) : 두 변수는 서로 독립적이지 않다. (관련이 있을 것이다.)\n",
        " - 함수 : chi2_contingency()"
      ],
      "metadata": {
        "id": "JspRYyfC6ufg"
      }
    },
    {
      "cell_type": "markdown",
      "source": [
        "<문제>  \n",
        "고등학교에서는 졸업생들이 선택하는 대학 전공 분야의 선호도가 시간이 지남에 따라 변하지 않는다고 가정합니다. 학교 측은 최근 졸업생들의 전공 선택이 과거와 같은 패턴을 따르는지 알아보기 위해 적합도 검정을 실시하기로 결정했습니다.  \n",
        "  \n",
        "과거 자료에 따르면 졸업생들이 선택하는 전공의 분포는 다음과 같습니다:  \n",
        "인문학: 20% 사회과학: 30% 자연과학: 25% 공학: 15% 기타: 10%  \n",
        "  \n",
        "올해 졸업한 학생 200명의 전공 선택 분포는 다음과 같았습니다:  \n",
        "인문학: 30명 사회과학: 60명 자연과학: 50명 공학: 40명 기타: 20명  \n",
        "  \n",
        "이 데이터를 바탕으로, 졸업생들의 전공 선택 패턴이 과거와 유사한지를 알아보기 위해 카이제곱 적합도 검정을 실시해야 합니다. 유의 수준은 0.05로 설정합니다.  \n",
        "  \n",
        "1. 검정 통계량?  \n",
        "2. p-value?  \n",
        "3. 유의수준 하 귀무가설 기각 또는 채택?  "
      ],
      "metadata": {
        "id": "KyXtHZbQ-lqT"
      }
    },
    {
      "cell_type": "code",
      "source": [
        "from scipy.stats import chisquare"
      ],
      "metadata": {
        "id": "r70elSyd-orb"
      },
      "execution_count": null,
      "outputs": []
    },
    {
      "cell_type": "code",
      "execution_count": null,
      "metadata": {
        "id": "N7RTaWFy1MUj",
        "colab": {
          "base_uri": "https://localhost:8080/"
        },
        "outputId": "501cfe05-a190-40d8-9291-fd99742f7fde"
      },
      "outputs": [
        {
          "output_type": "execute_result",
          "data": {
            "text/plain": [
              "Power_divergenceResult(statistic=np.float64(5.833333333333334), pvalue=np.float64(0.21194558437271782))"
            ]
          },
          "metadata": {},
          "execution_count": 2
        }
      ],
      "source": [
        "## 관측된 빈도\n",
        "observed_previous = [30, 60, 50, 40, 20]\n",
        "\n",
        "## 과거 자료에 따라 기대되는 빈도 (총원 200명)\n",
        "expected_frequencies = [200 * 0.20, 200 * 0.30, 200 * 0.25, 200 * 0.15, 200 * 0.10]\n",
        "\n",
        "## Chisquare\n",
        "chisquare(f_obs = observed_previous, f_exp = expected_frequencies)\n",
        "\n",
        "## Power_divergenceResult(statistic=np.float64(5.833333333333334), pvalue=np.float64(0.21194558437271782))\n",
        "## 검정 통계량 : 5.833333333333334\n",
        "## p-value : 0.21194558437271782\n",
        "## 유의수즌 0.05에 따른 귀무가설 채택 여부 : p-value가 0.05 이상이므로 귀무가설이 기각되어 대립가설이 채택될 수 없다. 곧, 두 변수의 분포가 동일하다."
      ]
    },
    {
      "cell_type": "code",
      "source": [],
      "metadata": {
        "id": "FGM1gG7_-Pat"
      },
      "execution_count": null,
      "outputs": []
    }
  ]
}