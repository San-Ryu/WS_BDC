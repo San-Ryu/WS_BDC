{
  "nbformat": 4,
  "nbformat_minor": 0,
  "metadata": {
    "colab": {
      "provenance": []
    },
    "kernelspec": {
      "name": "python3",
      "display_name": "Python 3"
    },
    "language_info": {
      "name": "python"
    }
  },
  "cells": [
    {
      "cell_type": "markdown",
      "source": [
        "# 두 그룹의 평균 비교 (t-test, f-test)  \n",
        "https://www.kaggle.com/code/agileteam/t3-ttest-anova-py/"
      ],
      "metadata": {
        "id": "J52miAkz6syR"
      }
    },
    {
      "cell_type": "markdown",
      "source": [
        "문제: 두 교육 방법의 효과 비교\n",
        "연구자는 두 가지 다른 교육 방법이 학생들의 성적에 미치는 영향을 비교하고자 합니다. 연구자는 무작위로 선발된 20명의 학생들을 두 그룹으로 나누어 한 그룹에는 교육 방법 A를, 다른 그룹에는 교육 방법 B를 적용합니다. 교육이 끝난 후, 두 그룹의 성적을 비교하기 위해 독립 표본 t-검정과 ANOVA F-검정을 실시하려고 합니다.\n",
        "\n",
        "다음은 두 그룹의 성적입니다: 다음의 두 가지 검정을 사용하여 두 교육 방법 간의 성적 차이가 통계적으로 유의한지를 검증하세요\n",
        "\n",
        "독립 표본 t-검정을 실시하여 t 통계량을 구하세요. 독립 표본 t-검정을 실시하여 p-값을 구하세요. ANOVA F-검정을 실시하여 F 통계량을 구하세요. ANOVA F-검정을 실시하여 p-값을 구하세요."
      ],
      "metadata": {
        "id": "JspRYyfC6ufg"
      }
    },
    {
      "cell_type": "code",
      "execution_count": null,
      "metadata": {
        "id": "N7RTaWFy1MUj"
      },
      "outputs": [],
      "source": [
        "import pandas as pd\n",
        "\n",
        "df = pd.DataFrame({\n",
        "    'A' : [77, 75, 82, 80, 81, 83, 84, 76, 75, 87]\n",
        "    , 'B' : [80, 74, 77, 79, 71, 74, 78, 69, 70, 72]\n",
        "})"
      ]
    },
    {
      "cell_type": "code",
      "source": [
        "from scipy import stats\n",
        "\n",
        "print(stats.ttest_ind(df['A'], df['B']))\n",
        "\n",
        "## TtestResult(statistic=np.float64(3.1068522301122954), pvalue=np.float64(0.006087373605949963), df=np.float64(18.0))\n",
        "## t 통계량 : 3.1068522301122954\n",
        "## p-value : 0.006087373605949963"
      ],
      "metadata": {
        "colab": {
          "base_uri": "https://localhost:8080/"
        },
        "id": "6jVMlDwi7cm2",
        "outputId": "56ffa713-2056-49fc-a24e-7c6cae9a3989"
      },
      "execution_count": null,
      "outputs": [
        {
          "output_type": "stream",
          "name": "stdout",
          "text": [
            "TtestResult(statistic=np.float64(3.1068522301122954), pvalue=np.float64(0.006087373605949963), df=np.float64(18.0))\n"
          ]
        }
      ]
    },
    {
      "cell_type": "code",
      "source": [
        "stats.f_oneway(df['A'], df['B'])\n",
        "\n",
        "## F_onewayResult(statistic=np.float64(9.652530779753763), pvalue=np.float64(0.006087373605949924))\n",
        "## t 통계량 : 9.652530779753763\n",
        "## p-value : 0.006087373605949924"
      ],
      "metadata": {
        "colab": {
          "base_uri": "https://localhost:8080/"
        },
        "id": "7BI1PfDP7lbe",
        "outputId": "4f8c6c74-9e39-467e-eea6-0ccb98a8998a"
      },
      "execution_count": null,
      "outputs": [
        {
          "output_type": "execute_result",
          "data": {
            "text/plain": [
              "F_onewayResult(statistic=np.float64(9.652530779753763), pvalue=np.float64(0.006087373605949924))"
            ]
          },
          "metadata": {},
          "execution_count": 3
        }
      ]
    },
    {
      "cell_type": "code",
      "source": [],
      "metadata": {
        "id": "FGM1gG7_-Pat"
      },
      "execution_count": null,
      "outputs": []
    }
  ]
}