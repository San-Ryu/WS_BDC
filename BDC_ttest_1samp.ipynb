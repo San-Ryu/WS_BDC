{
  "nbformat": 4,
  "nbformat_minor": 0,
  "metadata": {
    "colab": {
      "provenance": []
    },
    "kernelspec": {
      "name": "python3",
      "display_name": "Python 3"
    },
    "language_info": {
      "name": "python"
    }
  },
  "cells": [
    {
      "cell_type": "markdown",
      "source": [
        "https://github.com/lovedlim/BigDataCertificationCourses/tree/main  \n",
        "https://www.kaggle.com/code/agileteam/t3-ttest-1samp"
      ],
      "metadata": {
        "id": "A0VJ42gf3dK5"
      }
    },
    {
      "cell_type": "markdown",
      "source": [
        "# 단일표본 T검정\n",
        "\n",
        "<문제>  \n",
        "다음은 22명의 학생들이 국어시험에서 받은 점수이다. 학생들의 평균이 75보다 크다고 할 수 있는가?  \n",
        "- 귀무가설(H0): 모평균은 mu와 같다. (μ = mu), 학생들의 평균은 75이다  \n",
        "- 대립가설(H1): 모평균은 mu보다 크다. (μ > mu), 학생들의 평균은 75보다 크다  \n",
        "  \n",
        "가정:  \n",
        "- 모집단은 정규분포를 따른다.  \n",
        "- 표본의 크기가 충분히 크다.  \n",
        "\n",
        "\n",
        "검정통계량, p-value, 검정결과를 출력하시오"
      ],
      "metadata": {
        "id": "Eyw45jI83kXI"
      }
    },
    {
      "cell_type": "code",
      "execution_count": null,
      "metadata": {
        "colab": {
          "base_uri": "https://localhost:8080/"
        },
        "id": "2rzOUE-VuItM",
        "outputId": "67514204-31c8-43a6-eb93-5856ba0c6f3f"
      },
      "outputs": [
        {
          "output_type": "stream",
          "name": "stdout",
          "text": [
            "1.765879233231226\n",
            "0.04597614747709146\n",
            "p-value가 유의수준보다 작으므로 귀무가설을 기각한다.\n",
            "모평균은 75보다 크다\n"
          ]
        }
      ],
      "source": [
        "from scipy.stats import ttest_1samp\n",
        "\n",
        "## 데이터\n",
        "# scores = [75, 80, 68, 72, 77, 82, 81, 79, 70, 74, 76, 78, 81, 78, 75, 72, 74, 79, 78, 79]\n",
        "scores = [75, 80, 68, 72, 77, 82, 81, 79, 70, 74, 76, 78, 81, 73, 81, 78, 75, 72, 74, 79, 78, 79]\n",
        "\n",
        "## 모평균에 대한 가설검정\n",
        "mu = 75 ## 검정할 모평균\n",
        "alpha = 0.05 ## 유의수준\n",
        "\n",
        "## t-test를 사용하여 가설검정\n",
        "t_stat, pv = ttest_1samp(scores, mu, alternative = 'greater')\n",
        "\n",
        "\n",
        "## 결과 출력\n",
        "print(t_stat)\n",
        "print(pv)\n",
        "\n",
        "if pv < alpha:\n",
        "  print(\"p-value가 유의수준보다 작으므로 귀무가설을 기각한다.\")\n",
        "  print(\"모평균은 75보다 크다\")\n",
        "else :\n",
        "  print(\"p-value가 유의수준보다 크므로 귀무가설을 기각할 수 없다.\")\n",
        "  print(\"모평균은 75보다 크지 않다\")"
      ]
    },
    {
      "cell_type": "code",
      "source": [],
      "metadata": {
        "id": "grvPohsf6c5v"
      },
      "execution_count": null,
      "outputs": []
    }
  ]
}