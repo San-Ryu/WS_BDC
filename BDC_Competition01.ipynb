{
  "cells": [
    {
      "cell_type": "markdown",
      "metadata": {
        "id": "u4olP9ia5exe"
      },
      "source": [
        "https://www.youtube.com/watch?v=2n1nFbNf_5g  \n",
        "https://www.kaggle.com/competitions/big-data-analytics-certification-kr-2023-5th/"
      ]
    },
    {
      "cell_type": "markdown",
      "metadata": {
        "id": "18mlkLL35h21"
      },
      "source": [
        "빅데이터 분석기사 5회 실기 기출 유형  \n",
        "  \n",
        "<문제>  \n",
        "[가격 예측] 중고 자동차  \n",
        "자동차 가격을 예측해주세요!  \n",
        "예측할 값(y): price  \n",
        "평가: RMSE (Root Mean Squared Error)  \n",
        "data: train.csv, test.csv  \n",
        "\n"
      ]
    },
    {
      "cell_type": "markdown",
      "metadata": {
        "id": "o_kp-YyA5ua8"
      },
      "source": [
        "[컴피티션 제출 양식] 리더보드 제출용  \n",
        "제출 형식: submission.csv파일을 아래와 같은 형식(수치형)으로 제출  \n",
        "(id는 test의 index임)  \n",
        "&nbsp;  \n",
        "id,price  \n",
        "0,11000  \n",
        "1,20500  \n",
        "2,19610  \n",
        "...    \n",
        "1616,11995  "
      ]
    },
    {
      "cell_type": "markdown",
      "metadata": {
        "id": "HgVPxsOl6AGr"
      },
      "source": [
        "[실제 시험용 제출 양식] 참고  \n",
        "제출 형식: result.csv파일을 아래와 같은 형식(수치형)으로 제출\n",
        "&nbsp;  \n",
        "pred  \n",
        "11000  \n",
        "20500  \n",
        "19610  \n",
        "...    \n",
        "11995  "
      ]
    },
    {
      "cell_type": "markdown",
      "metadata": {
        "id": "acY7GxKC6jzb"
      },
      "source": [
        "- 답안 제출 참고  \n",
        "pd.read_csv('result.csv') 로 제출 코드 확인 가능"
      ]
    },
    {
      "cell_type": "code",
      "execution_count": null,
      "metadata": {
        "colab": {
          "base_uri": "https://localhost:8080/"
        },
        "id": "f9SKHlCc-HBQ",
        "outputId": "6f92c8d6-84bf-4989-b197-723225666a42"
      },
      "outputs": [
        {
          "name": "stdout",
          "output_type": "stream",
          "text": [
            "Drive already mounted at /content/drive; to attempt to forcibly remount, call drive.mount(\"/content/drive\", force_remount=True).\n"
          ]
        }
      ],
      "source": [
        "from google.colab import drive\n",
        "drive.mount('/content/drive')"
      ]
    },
    {
      "cell_type": "code",
      "execution_count": null,
      "metadata": {
        "colab": {
          "base_uri": "https://localhost:8080/",
          "height": 434
        },
        "id": "BmbQCywu5hjV",
        "outputId": "503d0387-2851-4355-ca07-14c3b643b248"
      },
      "outputs": [
        {
          "name": "stdout",
          "output_type": "stream",
          "text": [
            "(3759, 9) (1617, 8)\n"
          ]
        },
        {
          "data": {
            "text/html": [
              "<div>\n",
              "<style scoped>\n",
              "    .dataframe tbody tr th:only-of-type {\n",
              "        vertical-align: middle;\n",
              "    }\n",
              "\n",
              "    .dataframe tbody tr th {\n",
              "        vertical-align: top;\n",
              "    }\n",
              "\n",
              "    .dataframe thead th {\n",
              "        text-align: right;\n",
              "    }\n",
              "</style>\n",
              "<table border=\"1\" class=\"dataframe\">\n",
              "  <thead>\n",
              "    <tr style=\"text-align: right;\">\n",
              "      <th></th>\n",
              "      <th>model</th>\n",
              "      <th>year</th>\n",
              "      <th>price</th>\n",
              "      <th>transmission</th>\n",
              "      <th>mileage</th>\n",
              "      <th>fuelType</th>\n",
              "      <th>tax</th>\n",
              "      <th>mpg</th>\n",
              "      <th>engineSize</th>\n",
              "    </tr>\n",
              "  </thead>\n",
              "  <tbody>\n",
              "    <tr>\n",
              "      <th>0</th>\n",
              "      <td>EcoSport</td>\n",
              "      <td>2017</td>\n",
              "      <td>10298</td>\n",
              "      <td>Manual</td>\n",
              "      <td>25013</td>\n",
              "      <td>Petrol</td>\n",
              "      <td>150</td>\n",
              "      <td>53.3</td>\n",
              "      <td>1.0</td>\n",
              "    </tr>\n",
              "    <tr>\n",
              "      <th>1</th>\n",
              "      <td>Focus</td>\n",
              "      <td>2016</td>\n",
              "      <td>10491</td>\n",
              "      <td>Manual</td>\n",
              "      <td>30970</td>\n",
              "      <td>Diesel</td>\n",
              "      <td>0</td>\n",
              "      <td>74.3</td>\n",
              "      <td>1.5</td>\n",
              "    </tr>\n",
              "    <tr>\n",
              "      <th>2</th>\n",
              "      <td>S-MAX</td>\n",
              "      <td>2017</td>\n",
              "      <td>13498</td>\n",
              "      <td>Manual</td>\n",
              "      <td>60200</td>\n",
              "      <td>Diesel</td>\n",
              "      <td>150</td>\n",
              "      <td>56.5</td>\n",
              "      <td>2.0</td>\n",
              "    </tr>\n",
              "    <tr>\n",
              "      <th>3</th>\n",
              "      <td>Fiesta</td>\n",
              "      <td>2018</td>\n",
              "      <td>10600</td>\n",
              "      <td>Manual</td>\n",
              "      <td>27380</td>\n",
              "      <td>Petrol</td>\n",
              "      <td>145</td>\n",
              "      <td>56.5</td>\n",
              "      <td>1.0</td>\n",
              "    </tr>\n",
              "    <tr>\n",
              "      <th>4</th>\n",
              "      <td>Fiesta</td>\n",
              "      <td>2018</td>\n",
              "      <td>11000</td>\n",
              "      <td>Manual</td>\n",
              "      <td>7724</td>\n",
              "      <td>Petrol</td>\n",
              "      <td>145</td>\n",
              "      <td>65.7</td>\n",
              "      <td>1.0</td>\n",
              "    </tr>\n",
              "  </tbody>\n",
              "</table>\n",
              "</div>"
            ],
            "text/plain": [
              "       model  year  price transmission  mileage fuelType  tax   mpg  \\\n",
              "0   EcoSport  2017  10298       Manual    25013   Petrol  150  53.3   \n",
              "1      Focus  2016  10491       Manual    30970   Diesel    0  74.3   \n",
              "2      S-MAX  2017  13498       Manual    60200   Diesel  150  56.5   \n",
              "3     Fiesta  2018  10600       Manual    27380   Petrol  145  56.5   \n",
              "4     Fiesta  2018  11000       Manual     7724   Petrol  145  65.7   \n",
              "\n",
              "   engineSize  \n",
              "0         1.0  \n",
              "1         1.5  \n",
              "2         2.0  \n",
              "3         1.0  \n",
              "4         1.0  "
            ]
          },
          "metadata": {},
          "output_type": "display_data"
        },
        {
          "data": {
            "text/html": [
              "<div>\n",
              "<style scoped>\n",
              "    .dataframe tbody tr th:only-of-type {\n",
              "        vertical-align: middle;\n",
              "    }\n",
              "\n",
              "    .dataframe tbody tr th {\n",
              "        vertical-align: top;\n",
              "    }\n",
              "\n",
              "    .dataframe thead th {\n",
              "        text-align: right;\n",
              "    }\n",
              "</style>\n",
              "<table border=\"1\" class=\"dataframe\">\n",
              "  <thead>\n",
              "    <tr style=\"text-align: right;\">\n",
              "      <th></th>\n",
              "      <th>model</th>\n",
              "      <th>year</th>\n",
              "      <th>transmission</th>\n",
              "      <th>mileage</th>\n",
              "      <th>fuelType</th>\n",
              "      <th>tax</th>\n",
              "      <th>mpg</th>\n",
              "      <th>engineSize</th>\n",
              "    </tr>\n",
              "  </thead>\n",
              "  <tbody>\n",
              "    <tr>\n",
              "      <th>0</th>\n",
              "      <td>S-MAX</td>\n",
              "      <td>2016</td>\n",
              "      <td>Manual</td>\n",
              "      <td>23905</td>\n",
              "      <td>Diesel</td>\n",
              "      <td>125</td>\n",
              "      <td>56.5</td>\n",
              "      <td>2.0</td>\n",
              "    </tr>\n",
              "    <tr>\n",
              "      <th>1</th>\n",
              "      <td>Fiesta</td>\n",
              "      <td>2018</td>\n",
              "      <td>Manual</td>\n",
              "      <td>16895</td>\n",
              "      <td>Petrol</td>\n",
              "      <td>145</td>\n",
              "      <td>40.3</td>\n",
              "      <td>1.5</td>\n",
              "    </tr>\n",
              "    <tr>\n",
              "      <th>2</th>\n",
              "      <td>Kuga</td>\n",
              "      <td>2017</td>\n",
              "      <td>Manual</td>\n",
              "      <td>12109</td>\n",
              "      <td>Petrol</td>\n",
              "      <td>165</td>\n",
              "      <td>45.6</td>\n",
              "      <td>1.5</td>\n",
              "    </tr>\n",
              "    <tr>\n",
              "      <th>3</th>\n",
              "      <td>Kuga</td>\n",
              "      <td>2018</td>\n",
              "      <td>Semi-Auto</td>\n",
              "      <td>13940</td>\n",
              "      <td>Diesel</td>\n",
              "      <td>145</td>\n",
              "      <td>58.9</td>\n",
              "      <td>1.5</td>\n",
              "    </tr>\n",
              "    <tr>\n",
              "      <th>4</th>\n",
              "      <td>Fiesta</td>\n",
              "      <td>2013</td>\n",
              "      <td>Manual</td>\n",
              "      <td>31690</td>\n",
              "      <td>Petrol</td>\n",
              "      <td>30</td>\n",
              "      <td>54.3</td>\n",
              "      <td>1.2</td>\n",
              "    </tr>\n",
              "  </tbody>\n",
              "</table>\n",
              "</div>"
            ],
            "text/plain": [
              "     model  year transmission  mileage fuelType  tax   mpg  engineSize\n",
              "0    S-MAX  2016       Manual    23905   Diesel  125  56.5         2.0\n",
              "1   Fiesta  2018       Manual    16895   Petrol  145  40.3         1.5\n",
              "2     Kuga  2017       Manual    12109   Petrol  165  45.6         1.5\n",
              "3     Kuga  2018    Semi-Auto    13940   Diesel  145  58.9         1.5\n",
              "4   Fiesta  2013       Manual    31690   Petrol   30  54.3         1.2"
            ]
          },
          "metadata": {},
          "output_type": "display_data"
        }
      ],
      "source": [
        "## 데이터 불러오기\n",
        "import pandas as pd\n",
        "\n",
        "path_dir = './content/drive/MyDrive/data_BDC/car_price_BDC2023-5th/'\n",
        "train = pd.read_csv(path_dir + 'train.csv')\n",
        "test = pd.read_csv(path_dir + 'test.csv')\n",
        "\n",
        "## EDA\n",
        "print(train.shape, test.shape)\n",
        "display(train.head(5), test.head(5))"
      ]
    },
    {
      "cell_type": "code",
      "execution_count": 5,
      "metadata": {
        "colab": {
          "base_uri": "https://localhost:8080/"
        },
        "id": "jOZAjxW23EQ-",
        "outputId": "828ad615-1469-413c-da96-d4d8b90fc2b9"
      },
      "outputs": [
        {
          "name": "stdout",
          "output_type": "stream",
          "text": [
            "<class 'pandas.core.frame.DataFrame'>\n",
            "RangeIndex: 3759 entries, 0 to 3758\n",
            "Data columns (total 9 columns):\n",
            " #   Column        Non-Null Count  Dtype  \n",
            "---  ------        --------------  -----  \n",
            " 0   model         3759 non-null   object \n",
            " 1   year          3759 non-null   int64  \n",
            " 2   price         3759 non-null   int64  \n",
            " 3   transmission  3759 non-null   object \n",
            " 4   mileage       3759 non-null   int64  \n",
            " 5   fuelType      3759 non-null   object \n",
            " 6   tax           3759 non-null   int64  \n",
            " 7   mpg           3759 non-null   float64\n",
            " 8   engineSize    3759 non-null   float64\n",
            "dtypes: float64(2), int64(4), object(3)\n",
            "memory usage: 264.4+ KB\n",
            "None               year         price        mileage          tax          mpg  \\\n",
            "count  3759.000000   3759.000000    3759.000000  3759.000000  3759.000000   \n",
            "mean   2016.887736  12353.321362   23191.786379   114.444001    57.793083   \n",
            "std       2.151811   4750.338051   19223.258713    61.713682    10.099221   \n",
            "min    2002.000000   1095.000000       5.000000     0.000000    20.900000   \n",
            "25%    2016.000000   9000.000000    9997.500000    75.000000    52.300000   \n",
            "50%    2017.000000  11495.000000   18180.000000   145.000000    58.900000   \n",
            "75%    2018.000000  15310.000000   31000.000000   145.000000    65.700000   \n",
            "max    2060.000000  48000.000000  144000.000000   570.000000   201.800000   \n",
            "\n",
            "        engineSize  \n",
            "count  3759.000000  \n",
            "mean      1.352807  \n",
            "std       0.437130  \n",
            "min       0.000000  \n",
            "25%       1.000000  \n",
            "50%       1.200000  \n",
            "75%       1.500000  \n",
            "max       5.000000  \n",
            "<class 'pandas.core.frame.DataFrame'>\n",
            "RangeIndex: 1617 entries, 0 to 1616\n",
            "Data columns (total 8 columns):\n",
            " #   Column        Non-Null Count  Dtype  \n",
            "---  ------        --------------  -----  \n",
            " 0   model         1617 non-null   object \n",
            " 1   year          1617 non-null   int64  \n",
            " 2   transmission  1617 non-null   object \n",
            " 3   mileage       1617 non-null   int64  \n",
            " 4   fuelType      1617 non-null   object \n",
            " 5   tax           1617 non-null   int64  \n",
            " 6   mpg           1617 non-null   float64\n",
            " 7   engineSize    1617 non-null   float64\n",
            "dtypes: float64(2), int64(3), object(3)\n",
            "memory usage: 101.2+ KB\n",
            "None               year        mileage          tax          mpg   engineSize\n",
            "count  1617.000000    1617.000000  1617.000000  1617.000000  1617.000000\n",
            "mean   2016.752628   23817.544836   113.089054    57.804082     1.362894\n",
            "std       2.182152   20130.026364    63.584868    10.567025     0.436878\n",
            "min    2005.000000       5.000000     0.000000    20.900000     0.000000\n",
            "25%    2016.000000   10422.000000    30.000000    52.300000     1.000000\n",
            "50%    2017.000000   18471.000000   145.000000    58.900000     1.200000\n",
            "75%    2018.000000   31098.000000   145.000000    65.700000     1.600000\n",
            "max    2020.000000  150890.000000   570.000000   201.800000     5.000000\n"
          ]
        }
      ],
      "source": [
        "print(train.info(), train.describe())\n",
        "print(test.info(), test.describe())"
      ]
    },
    {
      "cell_type": "code",
      "execution_count": 6,
      "metadata": {
        "colab": {
          "base_uri": "https://localhost:8080/"
        },
        "id": "pCDoP60WDGDF",
        "outputId": "c2493831-5b83-44fc-825a-fcba52ffb24f"
      },
      "outputs": [
        {
          "name": "stdout",
          "output_type": "stream",
          "text": [
            "          model transmission fuelType\n",
            "count      3759         3759     3759\n",
            "unique       19            3        3\n",
            "top      Fiesta       Manual   Petrol\n",
            "freq       1372         3234     2541 \n",
            "\n",
            "                mpg   engineSize\n",
            "count  3759.000000  3759.000000\n",
            "mean     57.793083     1.352807\n",
            "std      10.099221     0.437130\n",
            "min      20.900000     0.000000\n",
            "25%      52.300000     1.000000\n",
            "50%      58.900000     1.200000\n",
            "75%      65.700000     1.500000\n",
            "max     201.800000     5.000000\n"
          ]
        }
      ],
      "source": [
        "print(train.describe(include = 'O'), \"\\n\\n\", train.describe(include = 'float64'))"
      ]
    },
    {
      "cell_type": "code",
      "execution_count": 7,
      "metadata": {
        "colab": {
          "base_uri": "https://localhost:8080/",
          "height": 209
        },
        "id": "qSqkQj3KDQI8",
        "outputId": "e3d1dd0a-b453-40c1-c4a8-f3c4c1dcc3fa"
      },
      "outputs": [
        {
          "data": {
            "text/plain": [
              "transmission\n",
              "Manual       1385\n",
              "Automatic     127\n",
              "Semi-Auto     105\n",
              "Name: count, dtype: int64"
            ]
          },
          "execution_count": 7,
          "metadata": {},
          "output_type": "execute_result"
        }
      ],
      "source": [
        "test['transmission'].value_counts()"
      ]
    },
    {
      "cell_type": "code",
      "execution_count": 8,
      "metadata": {
        "colab": {
          "base_uri": "https://localhost:8080/",
          "height": 448
        },
        "id": "fA_vq_8TFNJ_",
        "outputId": "8178e823-bde7-41be-db53-14178a19015c"
      },
      "outputs": [
        {
          "data": {
            "text/plain": [
              "<Axes: >"
            ]
          },
          "execution_count": 8,
          "metadata": {},
          "output_type": "execute_result"
        },
        {
          "data": {
            "image/png": "[encoded data removed]",
            "text/plain": [
              "<Figure size 640x480 with 1 Axes>"
            ]
          },
          "metadata": {},
          "output_type": "display_data"
        }
      ],
      "source": [
        "test['engineSize'].hist()"
      ]
    },
    {
      "cell_type": "code",
      "execution_count": 9,
      "metadata": {
        "colab": {
          "base_uri": "https://localhost:8080/"
        },
        "id": "LBAx1t27b-By",
        "outputId": "dda074f9-481e-4d68-8d0b-78da04e34488"
      },
      "outputs": [
        {
          "name": "stdout",
          "output_type": "stream",
          "text": [
            "model           0\n",
            "year            0\n",
            "transmission    0\n",
            "mileage         0\n",
            "fuelType        0\n",
            "tax             0\n",
            "mpg             0\n",
            "engineSize      0\n",
            "dtype: int64\n"
          ]
        }
      ],
      "source": [
        "print(test.isnull().sum())"
      ]
    },
    {
      "cell_type": "code",
      "execution_count": 10,
      "metadata": {
        "colab": {
          "base_uri": "https://localhost:8080/",
          "height": 569
        },
        "id": "QXYdVxiYdtWt",
        "outputId": "4c2f86b3-af21-412f-e749-96b2be1ab88a"
      },
      "outputs": [
        {
          "name": "stdout",
          "output_type": "stream",
          "text": [
            "Index(['model', 'year', 'price', 'transmission', 'mileage', 'fuelType', 'tax',\n",
            "       'mpg', 'engineSize'],\n",
            "      dtype='object')\n"
          ]
        },
        {
          "data": {
            "text/plain": [
              "0       10298\n",
              "1       10491\n",
              "2       13498\n",
              "3       10600\n",
              "4       11000\n",
              "        ...  \n",
              "3754    10495\n",
              "3755    17991\n",
              "3756     6830\n",
              "3757    11500\n",
              "3758     8295\n",
              "Name: price, Length: 3759, dtype: int64"
            ]
          },
          "metadata": {},
          "output_type": "display_data"
        },
        {
          "name": "stdout",
          "output_type": "stream",
          "text": [
            "Index(['model', 'year', 'transmission', 'mileage', 'fuelType', 'tax', 'mpg',\n",
            "       'engineSize'],\n",
            "      dtype='object')\n"
          ]
        }
      ],
      "source": [
        "print(train.columns)\n",
        "## 'model', 'year', 'price', 'transmission', 'mileage', 'fuelType', 'tax', 'mpg', 'engineSize'\n",
        "\n",
        "y_train = train.pop(\"price\")\n",
        "display(y_train)\n",
        "\n",
        "print(train.columns)\n",
        "## 'model', 'year', 'transmission', 'mileage', 'fuelType', 'tax', 'mpg', 'engineSize'"
      ]
    },
    {
      "cell_type": "code",
      "execution_count": 11,
      "metadata": {
        "colab": {
          "base_uri": "https://localhost:8080/",
          "height": 443
        },
        "id": "WVzkXTe7dxVD",
        "outputId": "04108243-58d3-4c44-8a79-4a8c0188eb7e"
      },
      "outputs": [
        {
          "data": {
            "text/html": [
              "<div>\n",
              "<style scoped>\n",
              "    .dataframe tbody tr th:only-of-type {\n",
              "        vertical-align: middle;\n",
              "    }\n",
              "\n",
              "    .dataframe tbody tr th {\n",
              "        vertical-align: top;\n",
              "    }\n",
              "\n",
              "    .dataframe thead th {\n",
              "        text-align: right;\n",
              "    }\n",
              "</style>\n",
              "<table border=\"1\" class=\"dataframe\">\n",
              "  <thead>\n",
              "    <tr style=\"text-align: right;\">\n",
              "      <th></th>\n",
              "      <th>model</th>\n",
              "      <th>year</th>\n",
              "      <th>transmission</th>\n",
              "      <th>mileage</th>\n",
              "      <th>fuelType</th>\n",
              "      <th>tax</th>\n",
              "      <th>mpg</th>\n",
              "      <th>engineSize</th>\n",
              "    </tr>\n",
              "  </thead>\n",
              "  <tbody>\n",
              "    <tr>\n",
              "      <th>0</th>\n",
              "      <td>EcoSport</td>\n",
              "      <td>2017</td>\n",
              "      <td>Manual</td>\n",
              "      <td>25013</td>\n",
              "      <td>Petrol</td>\n",
              "      <td>150</td>\n",
              "      <td>53.3</td>\n",
              "      <td>1.0</td>\n",
              "    </tr>\n",
              "    <tr>\n",
              "      <th>1</th>\n",
              "      <td>Focus</td>\n",
              "      <td>2016</td>\n",
              "      <td>Manual</td>\n",
              "      <td>30970</td>\n",
              "      <td>Diesel</td>\n",
              "      <td>0</td>\n",
              "      <td>74.3</td>\n",
              "      <td>1.5</td>\n",
              "    </tr>\n",
              "    <tr>\n",
              "      <th>2</th>\n",
              "      <td>S-MAX</td>\n",
              "      <td>2017</td>\n",
              "      <td>Manual</td>\n",
              "      <td>60200</td>\n",
              "      <td>Diesel</td>\n",
              "      <td>150</td>\n",
              "      <td>56.5</td>\n",
              "      <td>2.0</td>\n",
              "    </tr>\n",
              "    <tr>\n",
              "      <th>3</th>\n",
              "      <td>Fiesta</td>\n",
              "      <td>2018</td>\n",
              "      <td>Manual</td>\n",
              "      <td>27380</td>\n",
              "      <td>Petrol</td>\n",
              "      <td>145</td>\n",
              "      <td>56.5</td>\n",
              "      <td>1.0</td>\n",
              "    </tr>\n",
              "    <tr>\n",
              "      <th>4</th>\n",
              "      <td>Fiesta</td>\n",
              "      <td>2018</td>\n",
              "      <td>Manual</td>\n",
              "      <td>7724</td>\n",
              "      <td>Petrol</td>\n",
              "      <td>145</td>\n",
              "      <td>65.7</td>\n",
              "      <td>1.0</td>\n",
              "    </tr>\n",
              "    <tr>\n",
              "      <th>...</th>\n",
              "      <td>...</td>\n",
              "      <td>...</td>\n",
              "      <td>...</td>\n",
              "      <td>...</td>\n",
              "      <td>...</td>\n",
              "      <td>...</td>\n",
              "      <td>...</td>\n",
              "      <td>...</td>\n",
              "    </tr>\n",
              "    <tr>\n",
              "      <th>3754</th>\n",
              "      <td>Fiesta</td>\n",
              "      <td>2017</td>\n",
              "      <td>Automatic</td>\n",
              "      <td>31597</td>\n",
              "      <td>Petrol</td>\n",
              "      <td>0</td>\n",
              "      <td>57.7</td>\n",
              "      <td>1.0</td>\n",
              "    </tr>\n",
              "    <tr>\n",
              "      <th>3755</th>\n",
              "      <td>Kuga</td>\n",
              "      <td>2019</td>\n",
              "      <td>Manual</td>\n",
              "      <td>3961</td>\n",
              "      <td>Diesel</td>\n",
              "      <td>150</td>\n",
              "      <td>45.6</td>\n",
              "      <td>1.5</td>\n",
              "    </tr>\n",
              "    <tr>\n",
              "      <th>3756</th>\n",
              "      <td>Ka+</td>\n",
              "      <td>2017</td>\n",
              "      <td>Manual</td>\n",
              "      <td>16207</td>\n",
              "      <td>Petrol</td>\n",
              "      <td>145</td>\n",
              "      <td>57.7</td>\n",
              "      <td>1.2</td>\n",
              "    </tr>\n",
              "    <tr>\n",
              "      <th>3757</th>\n",
              "      <td>Fiesta</td>\n",
              "      <td>2018</td>\n",
              "      <td>Manual</td>\n",
              "      <td>9487</td>\n",
              "      <td>Petrol</td>\n",
              "      <td>150</td>\n",
              "      <td>65.7</td>\n",
              "      <td>1.0</td>\n",
              "    </tr>\n",
              "    <tr>\n",
              "      <th>3758</th>\n",
              "      <td>Ka+</td>\n",
              "      <td>2018</td>\n",
              "      <td>Manual</td>\n",
              "      <td>8143</td>\n",
              "      <td>Petrol</td>\n",
              "      <td>145</td>\n",
              "      <td>57.7</td>\n",
              "      <td>1.2</td>\n",
              "    </tr>\n",
              "  </tbody>\n",
              "</table>\n",
              "<p>3759 rows × 8 columns</p>\n",
              "</div>"
            ],
            "text/plain": [
              "          model  year transmission  mileage fuelType  tax   mpg  engineSize\n",
              "0      EcoSport  2017       Manual    25013   Petrol  150  53.3         1.0\n",
              "1         Focus  2016       Manual    30970   Diesel    0  74.3         1.5\n",
              "2         S-MAX  2017       Manual    60200   Diesel  150  56.5         2.0\n",
              "3        Fiesta  2018       Manual    27380   Petrol  145  56.5         1.0\n",
              "4        Fiesta  2018       Manual     7724   Petrol  145  65.7         1.0\n",
              "...         ...   ...          ...      ...      ...  ...   ...         ...\n",
              "3754     Fiesta  2017    Automatic    31597   Petrol    0  57.7         1.0\n",
              "3755       Kuga  2019       Manual     3961   Diesel  150  45.6         1.5\n",
              "3756        Ka+  2017       Manual    16207   Petrol  145  57.7         1.2\n",
              "3757     Fiesta  2018       Manual     9487   Petrol  150  65.7         1.0\n",
              "3758        Ka+  2018       Manual     8143   Petrol  145  57.7         1.2\n",
              "\n",
              "[3759 rows x 8 columns]"
            ]
          },
          "execution_count": 11,
          "metadata": {},
          "output_type": "execute_result"
        }
      ],
      "source": [
        "## 수치형 데이터 활용\n",
        "cols = ['year', 'mileage', 'tax', 'mpg', 'engineSize']\n",
        "train"
      ]
    },
    {
      "cell_type": "code",
      "execution_count": 12,
      "metadata": {
        "colab": {
          "base_uri": "https://localhost:8080/",
          "height": 462
        },
        "id": "1PBhl2wR81P9",
        "outputId": "18eb6ee7-5810-45b0-e11e-f5411bc0c810"
      },
      "outputs": [
        {
          "name": "stdout",
          "output_type": "stream",
          "text": [
            "[{' B-MAX': 0, ' C-MAX': 1, ' EcoSport': 2, ' Edge': 3, ' Fiesta': 4, ' Focus': 5, ' Fusion': 6, ' Galaxy': 7, ' Grand C-MAX': 8, ' Grand Tourneo Connect': 9, ' KA': 10, ' Ka+': 11, ' Kuga': 12, ' Mondeo': 13, ' Mustang': 14, ' Puma': 15, ' S-MAX': 16, ' Tourneo Connect': 17, ' Tourneo Custom': 18}, {'Automatic': 0, 'Manual': 1, 'Semi-Auto': 2}, {'Diesel': 0, 'Hybrid': 1, 'Petrol': 2}]\n"
          ]
        },
        {
          "data": {
            "text/html": [
              "<div>\n",
              "<style scoped>\n",
              "    .dataframe tbody tr th:only-of-type {\n",
              "        vertical-align: middle;\n",
              "    }\n",
              "\n",
              "    .dataframe tbody tr th {\n",
              "        vertical-align: top;\n",
              "    }\n",
              "\n",
              "    .dataframe thead th {\n",
              "        text-align: right;\n",
              "    }\n",
              "</style>\n",
              "<table border=\"1\" class=\"dataframe\">\n",
              "  <thead>\n",
              "    <tr style=\"text-align: right;\">\n",
              "      <th></th>\n",
              "      <th>model</th>\n",
              "      <th>year</th>\n",
              "      <th>transmission</th>\n",
              "      <th>mileage</th>\n",
              "      <th>fuelType</th>\n",
              "      <th>tax</th>\n",
              "      <th>mpg</th>\n",
              "      <th>engineSize</th>\n",
              "    </tr>\n",
              "  </thead>\n",
              "  <tbody>\n",
              "    <tr>\n",
              "      <th>0</th>\n",
              "      <td>2</td>\n",
              "      <td>2017</td>\n",
              "      <td>1</td>\n",
              "      <td>25013</td>\n",
              "      <td>2</td>\n",
              "      <td>150</td>\n",
              "      <td>53.3</td>\n",
              "      <td>1.0</td>\n",
              "    </tr>\n",
              "    <tr>\n",
              "      <th>1</th>\n",
              "      <td>5</td>\n",
              "      <td>2016</td>\n",
              "      <td>1</td>\n",
              "      <td>30970</td>\n",
              "      <td>0</td>\n",
              "      <td>0</td>\n",
              "      <td>74.3</td>\n",
              "      <td>1.5</td>\n",
              "    </tr>\n",
              "    <tr>\n",
              "      <th>2</th>\n",
              "      <td>16</td>\n",
              "      <td>2017</td>\n",
              "      <td>1</td>\n",
              "      <td>60200</td>\n",
              "      <td>0</td>\n",
              "      <td>150</td>\n",
              "      <td>56.5</td>\n",
              "      <td>2.0</td>\n",
              "    </tr>\n",
              "    <tr>\n",
              "      <th>3</th>\n",
              "      <td>4</td>\n",
              "      <td>2018</td>\n",
              "      <td>1</td>\n",
              "      <td>27380</td>\n",
              "      <td>2</td>\n",
              "      <td>145</td>\n",
              "      <td>56.5</td>\n",
              "      <td>1.0</td>\n",
              "    </tr>\n",
              "    <tr>\n",
              "      <th>4</th>\n",
              "      <td>4</td>\n",
              "      <td>2018</td>\n",
              "      <td>1</td>\n",
              "      <td>7724</td>\n",
              "      <td>2</td>\n",
              "      <td>145</td>\n",
              "      <td>65.7</td>\n",
              "      <td>1.0</td>\n",
              "    </tr>\n",
              "    <tr>\n",
              "      <th>...</th>\n",
              "      <td>...</td>\n",
              "      <td>...</td>\n",
              "      <td>...</td>\n",
              "      <td>...</td>\n",
              "      <td>...</td>\n",
              "      <td>...</td>\n",
              "      <td>...</td>\n",
              "      <td>...</td>\n",
              "    </tr>\n",
              "    <tr>\n",
              "      <th>3754</th>\n",
              "      <td>4</td>\n",
              "      <td>2017</td>\n",
              "      <td>0</td>\n",
              "      <td>31597</td>\n",
              "      <td>2</td>\n",
              "      <td>0</td>\n",
              "      <td>57.7</td>\n",
              "      <td>1.0</td>\n",
              "    </tr>\n",
              "    <tr>\n",
              "      <th>3755</th>\n",
              "      <td>12</td>\n",
              "      <td>2019</td>\n",
              "      <td>1</td>\n",
              "      <td>3961</td>\n",
              "      <td>0</td>\n",
              "      <td>150</td>\n",
              "      <td>45.6</td>\n",
              "      <td>1.5</td>\n",
              "    </tr>\n",
              "    <tr>\n",
              "      <th>3756</th>\n",
              "      <td>11</td>\n",
              "      <td>2017</td>\n",
              "      <td>1</td>\n",
              "      <td>16207</td>\n",
              "      <td>2</td>\n",
              "      <td>145</td>\n",
              "      <td>57.7</td>\n",
              "      <td>1.2</td>\n",
              "    </tr>\n",
              "    <tr>\n",
              "      <th>3757</th>\n",
              "      <td>4</td>\n",
              "      <td>2018</td>\n",
              "      <td>1</td>\n",
              "      <td>9487</td>\n",
              "      <td>2</td>\n",
              "      <td>150</td>\n",
              "      <td>65.7</td>\n",
              "      <td>1.0</td>\n",
              "    </tr>\n",
              "    <tr>\n",
              "      <th>3758</th>\n",
              "      <td>11</td>\n",
              "      <td>2018</td>\n",
              "      <td>1</td>\n",
              "      <td>8143</td>\n",
              "      <td>2</td>\n",
              "      <td>145</td>\n",
              "      <td>57.7</td>\n",
              "      <td>1.2</td>\n",
              "    </tr>\n",
              "  </tbody>\n",
              "</table>\n",
              "<p>3759 rows × 8 columns</p>\n",
              "</div>"
            ],
            "text/plain": [
              "      model  year  transmission  mileage  fuelType  tax   mpg  engineSize\n",
              "0         2  2017             1    25013         2  150  53.3         1.0\n",
              "1         5  2016             1    30970         0    0  74.3         1.5\n",
              "2        16  2017             1    60200         0  150  56.5         2.0\n",
              "3         4  2018             1    27380         2  145  56.5         1.0\n",
              "4         4  2018             1     7724         2  145  65.7         1.0\n",
              "...     ...   ...           ...      ...       ...  ...   ...         ...\n",
              "3754      4  2017             0    31597         2    0  57.7         1.0\n",
              "3755     12  2019             1     3961         0  150  45.6         1.5\n",
              "3756     11  2017             1    16207         2  145  57.7         1.2\n",
              "3757      4  2018             1     9487         2  150  65.7         1.0\n",
              "3758     11  2018             1     8143         2  145  57.7         1.2\n",
              "\n",
              "[3759 rows x 8 columns]"
            ]
          },
          "execution_count": 12,
          "metadata": {},
          "output_type": "execute_result"
        }
      ],
      "source": [
        "## 전처리\n",
        "## Mapping\n",
        "list_dict_map = []\n",
        "for col in list(train.describe(include='object').columns) : ## 범주형 변수 추출 (Mapping 목적)\n",
        "  list_feature = []\n",
        "  list_tmp = train[col].unique()\n",
        "  list_tmp.sort()\n",
        "\n",
        "  dict_map = {}\n",
        "  cnt_feature = 0\n",
        "  for feature in list_tmp :\n",
        "    dict_map[feature] = cnt_feature\n",
        "    cnt_feature = cnt_feature + 1\n",
        "\n",
        "  list_dict_map.append(dict_map)\n",
        "  train[col] = train[col].map(dict_map)\n",
        "\n",
        "print(list_dict_map)\n",
        "train"
      ]
    },
    {
      "cell_type": "code",
      "execution_count": 13,
      "metadata": {
        "colab": {
          "base_uri": "https://localhost:8080/"
        },
        "id": "CK-OhSO3d9h6",
        "outputId": "f0aafeb1-074b-45e9-c983-4cb17505b4ea"
      },
      "outputs": [
        {
          "data": {
            "text/plain": [
              "((3007, 8), (752, 8), (3007,), (752,))"
            ]
          },
          "execution_count": 13,
          "metadata": {},
          "output_type": "execute_result"
        }
      ],
      "source": [
        "from sklearn.model_selection import train_test_split\n",
        "\n",
        "X_tr, X_val, y_tr, y_val = train_test_split(train, y_train, test_size = 0.2, random_state = 2022)\n",
        "X_tr.shape, X_val.shape, y_tr.shape, y_val.shape"
      ]
    },
    {
      "cell_type": "code",
      "execution_count": 14,
      "metadata": {
        "id": "IBIuRBOzrgEk"
      },
      "outputs": [],
      "source": [
        "from sklearn.ensemble import RandomForestRegressor\n",
        "\n",
        "rf = RandomForestRegressor()\n",
        "rf.fit(X_tr, y_tr)\n",
        "pred = rf.predict(X_val)"
      ]
    },
    {
      "cell_type": "code",
      "execution_count": 15,
      "metadata": {
        "id": "5pAmNLp4uPir"
      },
      "outputs": [],
      "source": [
        "from sklearn.metrics import mean_squared_error\n",
        "\n",
        "def rmse(y_true, y_pred):\n",
        "  return mean_squared_error(y_true, y_pred)**0.5"
      ]
    },
    {
      "cell_type": "code",
      "execution_count": 16,
      "metadata": {
        "colab": {
          "base_uri": "https://localhost:8080/"
        },
        "id": "U3a2JfGzv9HX",
        "outputId": "4c1b78ea-a3c8-49ba-e785-d527f7a736e0"
      },
      "outputs": [
        {
          "data": {
            "text/plain": [
              "1312.9156241336282"
            ]
          },
          "execution_count": 16,
          "metadata": {},
          "output_type": "execute_result"
        }
      ],
      "source": [
        "rmse(y_val, pred)"
      ]
    },
    {
      "cell_type": "markdown",
      "metadata": {
        "id": "I-AoY8mEMBwG"
      },
      "source": [
        "# 수치형+범주형 활용"
      ]
    },
    {
      "cell_type": "code",
      "execution_count": 17,
      "metadata": {
        "id": "Cq-fAW5yKaDy"
      },
      "outputs": [],
      "source": [
        "train = pd.read_csv(path_dir + \"train.csv\")\n",
        "test = pd.read_csv(path_dir + \"test.csv\")\n",
        "\n",
        "y_train = train.pop(\"price\")"
      ]
    },
    {
      "cell_type": "code",
      "execution_count": 18,
      "metadata": {
        "id": "WeibWlhdMKY7"
      },
      "outputs": [],
      "source": [
        "train = pd.get_dummies(train)\n",
        "test = pd.get_dummies(test)"
      ]
    },
    {
      "cell_type": "code",
      "execution_count": 19,
      "metadata": {
        "colab": {
          "base_uri": "https://localhost:8080/"
        },
        "id": "hddVkJrDMX-y",
        "outputId": "5de7fa41-bd0e-41b5-ffff-adba6c333670"
      },
      "outputs": [
        {
          "data": {
            "text/plain": [
              "Index(['year', 'mileage', 'tax', 'mpg', 'engineSize', 'model_ B-MAX',\n",
              "       'model_ C-MAX', 'model_ EcoSport', 'model_ Edge', 'model_ Fiesta',\n",
              "       'model_ Focus', 'model_ Fusion', 'model_ Galaxy', 'model_ Grand C-MAX',\n",
              "       'model_ Grand Tourneo Connect', 'model_ KA', 'model_ Ka+',\n",
              "       'model_ Kuga', 'model_ Mondeo', 'model_ Mustang', 'model_ Puma',\n",
              "       'model_ S-MAX', 'model_ Tourneo Connect', 'model_ Tourneo Custom',\n",
              "       'transmission_Automatic', 'transmission_Manual',\n",
              "       'transmission_Semi-Auto', 'fuelType_Diesel', 'fuelType_Hybrid',\n",
              "       'fuelType_Petrol'],\n",
              "      dtype='object')"
            ]
          },
          "execution_count": 19,
          "metadata": {},
          "output_type": "execute_result"
        }
      ],
      "source": [
        "train\n",
        "test.columns"
      ]
    },
    {
      "cell_type": "code",
      "execution_count": 20,
      "metadata": {
        "colab": {
          "base_uri": "https://localhost:8080/"
        },
        "id": "KszJzg-tMYo6",
        "outputId": "a199d0b3-dc44-48d8-d58f-0cacd97089d7"
      },
      "outputs": [
        {
          "data": {
            "text/plain": [
              "((3007, 30), (752, 30), (3007,), (752,))"
            ]
          },
          "execution_count": 20,
          "metadata": {},
          "output_type": "execute_result"
        }
      ],
      "source": [
        "from sklearn.model_selection import train_test_split\n",
        "x_tr, x_val, y_tr, y_val = train_test_split(train, y_train, test_size = 0.2, random_state = 2022)\n",
        "x_tr.shape, x_val.shape, y_tr.shape, y_val.shape"
      ]
    },
    {
      "cell_type": "code",
      "execution_count": 21,
      "metadata": {
        "colab": {
          "base_uri": "https://localhost:8080/"
        },
        "id": "93QIZB2xNChQ",
        "outputId": "71d25eda-113e-4262-d9bc-81c668756716"
      },
      "outputs": [
        {
          "data": {
            "text/plain": [
              "1307.8595270230376"
            ]
          },
          "execution_count": 21,
          "metadata": {},
          "output_type": "execute_result"
        }
      ],
      "source": [
        "from sklearn.ensemble import RandomForestRegressor\n",
        "rf = RandomForestRegressor()\n",
        "rf.fit(x_tr, y_tr)\n",
        "pred = rf.predict(x_val)\n",
        "rmse(y_val, pred)"
      ]
    },
    {
      "cell_type": "markdown",
      "metadata": {
        "id": "jXhqKWqiNY4A"
      },
      "source": [
        "# Test 예측"
      ]
    },
    {
      "cell_type": "code",
      "execution_count": 22,
      "metadata": {
        "colab": {
          "base_uri": "https://localhost:8080/",
          "height": 423
        },
        "id": "x-IB3zhDNRKg",
        "outputId": "a337f95a-e6ee-4f41-b866-cb62c47e3476"
      },
      "outputs": [
        {
          "data": {
            "text/html": [
              "<div>\n",
              "<style scoped>\n",
              "    .dataframe tbody tr th:only-of-type {\n",
              "        vertical-align: middle;\n",
              "    }\n",
              "\n",
              "    .dataframe tbody tr th {\n",
              "        vertical-align: top;\n",
              "    }\n",
              "\n",
              "    .dataframe thead th {\n",
              "        text-align: right;\n",
              "    }\n",
              "</style>\n",
              "<table border=\"1\" class=\"dataframe\">\n",
              "  <thead>\n",
              "    <tr style=\"text-align: right;\">\n",
              "      <th></th>\n",
              "      <th>pred</th>\n",
              "    </tr>\n",
              "  </thead>\n",
              "  <tbody>\n",
              "    <tr>\n",
              "      <th>0</th>\n",
              "      <td>15327.13</td>\n",
              "    </tr>\n",
              "    <tr>\n",
              "      <th>1</th>\n",
              "      <td>15965.56</td>\n",
              "    </tr>\n",
              "    <tr>\n",
              "      <th>2</th>\n",
              "      <td>14446.28</td>\n",
              "    </tr>\n",
              "    <tr>\n",
              "      <th>3</th>\n",
              "      <td>18636.26</td>\n",
              "    </tr>\n",
              "    <tr>\n",
              "      <th>4</th>\n",
              "      <td>6318.22</td>\n",
              "    </tr>\n",
              "    <tr>\n",
              "      <th>...</th>\n",
              "      <td>...</td>\n",
              "    </tr>\n",
              "    <tr>\n",
              "      <th>1612</th>\n",
              "      <td>11603.88</td>\n",
              "    </tr>\n",
              "    <tr>\n",
              "      <th>1613</th>\n",
              "      <td>17908.62</td>\n",
              "    </tr>\n",
              "    <tr>\n",
              "      <th>1614</th>\n",
              "      <td>10004.11</td>\n",
              "    </tr>\n",
              "    <tr>\n",
              "      <th>1615</th>\n",
              "      <td>14371.36</td>\n",
              "    </tr>\n",
              "    <tr>\n",
              "      <th>1616</th>\n",
              "      <td>4773.49</td>\n",
              "    </tr>\n",
              "  </tbody>\n",
              "</table>\n",
              "<p>1617 rows × 1 columns</p>\n",
              "</div>"
            ],
            "text/plain": [
              "          pred\n",
              "0     15327.13\n",
              "1     15965.56\n",
              "2     14446.28\n",
              "3     18636.26\n",
              "4      6318.22\n",
              "...        ...\n",
              "1612  11603.88\n",
              "1613  17908.62\n",
              "1614  10004.11\n",
              "1615  14371.36\n",
              "1616   4773.49\n",
              "\n",
              "[1617 rows x 1 columns]"
            ]
          },
          "execution_count": 22,
          "metadata": {},
          "output_type": "execute_result"
        }
      ],
      "source": [
        "pred = rf.predict(test)\n",
        "\n",
        "## 제출 형식: result.csv파일을 아래와 같은 형식(수치형)으로 제출\n",
        "result = pd.DataFrame({\n",
        "    'pred' : pred\n",
        "})\n",
        "\n",
        "result.to_csv(path_dir + 'result.csv', index = False)\n",
        "result"
      ]
    },
    {
      "cell_type": "code",
      "execution_count": null,
      "metadata": {
        "id": "4LIhRIr3N3PX"
      },
      "outputs": [],
      "source": []
    }
  ],
  "metadata": {
    "colab": {
      "provenance": []
    },
    "kernelspec": {
      "display_name": "base",
      "language": "python",
      "name": "python3"
    },
    "language_info": {
      "codemirror_mode": {
        "name": "ipython",
        "version": 3
      },
      "file_extension": ".py",
      "mimetype": "text/x-python",
      "name": "python",
      "nbconvert_exporter": "python",
      "pygments_lexer": "ipython3",
      "version": "3.12.7"
    }
  },
  "nbformat": 4,
  "nbformat_minor": 0
}
