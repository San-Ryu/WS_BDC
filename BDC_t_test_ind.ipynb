{
  "nbformat": 4,
  "nbformat_minor": 0,
  "metadata": {
    "colab": {
      "provenance": []
    },
    "kernelspec": {
      "name": "python3",
      "display_name": "Python 3"
    },
    "language_info": {
      "name": "python"
    }
  },
  "cells": [
    {
      "cell_type": "markdown",
      "source": [
        "https://github.com/lovedlim/BigDataCertificationCourses  \n",
        "https://www.kaggle.com/code/agileteam/t3-ttest-ind"
      ],
      "metadata": {
        "id": "CBJJQZFQXC_V"
      }
    },
    {
      "cell_type": "markdown",
      "source": [
        "# 독립 T 검정  \n",
        "어떤 특정 약물을 복용한 사람들의 평균 체온이 복용하지 않은 사람들의 평균 체온과 유의미하게 다른지 검정해보려고 합니다.  \n",
        "가정:\n",
        "- 약물을 복용한 그룹과 복용하지 않은 그룹의 체온 데이터가 각각 주어져 있다고 가정합니다.  \n",
        "- 각 그룹의 체온은 정규분포를 따른다고 가정합니다.  \n",
        "\n",
        "검정통계량, p-value, 검정결과를 출력하시오"
      ],
      "metadata": {
        "id": "qeHOAWtxXHKn"
      }
    },
    {
      "cell_type": "code",
      "source": [
        "from scipy import stats\n",
        "\n",
        "## 가설검정\n",
        "## 귀무가설 : 약물을 복용한 그룹과 복용하지 않은 그룹의 평균 체온에는 유의미한 차이가 없다.\n",
        "## 대립가설 : 약물을 복용한 그룹과 복용하지 않은 그룹의 평균 체온에는 유의미한 차이가 존재한다."
      ],
      "metadata": {
        "id": "7_WGZ2INXCZe"
      },
      "execution_count": null,
      "outputs": []
    },
    {
      "cell_type": "code",
      "execution_count": null,
      "metadata": {
        "colab": {
          "base_uri": "https://localhost:8080/"
        },
        "id": "N_WnBFBdWjeV",
        "outputId": "bf72d589-4e74-45f8-f593-f3c538561ebd"
      },
      "outputs": [
        {
          "output_type": "stream",
          "name": "stdout",
          "text": [
            "3.7964208654863336\n",
            "0.001321891476703691\n"
          ]
        }
      ],
      "source": [
        "## Data 수집\n",
        "group01 = [36.8, 36.7, 37.1, 36.9, 37.2, 36.8, 36.9, 37.1, 36.7, 37.1]\n",
        "group02 = [36.5, 36.6, 36.3, 36.6, 36.9, 36.7, 36.7, 36.8, 36.5, 36.7]\n",
        "\n",
        "## 가설검정\n",
        "t_stat, pv = stats.ttest_ind(group01, group02)\n",
        "\n",
        "print(t_stat)\n",
        "print(pv)"
      ]
    },
    {
      "cell_type": "code",
      "source": [
        "alpha = 0.05 ## 유의수준 설정\n",
        "\n",
        "if pv < alpha :\n",
        "  print(\"p-value{}가 유의수준 {}보다 작으므로 귀무가설이 기각되어 두 그룹의 평균 체온에는 유의미한 차이가 존재한다.\".format(round(pv, 4), alpha))\n",
        "else :\n",
        "  print(\"p-value{}가 유의수준 {}보다 크므로 귀무가설이 채택되어 두 그룹의 평균 체온에는 유의미한 차이가 없다.\".format(round(pv, 4), alpha))"
      ],
      "metadata": {
        "colab": {
          "base_uri": "https://localhost:8080/"
        },
        "id": "N7lQOb06X1BT",
        "outputId": "06312d80-e0ec-4ddf-b52b-1143e9aeaaaa"
      },
      "execution_count": null,
      "outputs": [
        {
          "output_type": "stream",
          "name": "stdout",
          "text": [
            "p-value0.0013가 유의수준 0.05보다 작으므로 귀무가설이 기각되어 두 그룹의 평균 체온에는 유의미한 차이가 존재한다.\n"
          ]
        }
      ]
    },
    {
      "cell_type": "code",
      "source": [],
      "metadata": {
        "id": "moNeeYfgf8EA"
      },
      "execution_count": null,
      "outputs": []
    }
  ]
}